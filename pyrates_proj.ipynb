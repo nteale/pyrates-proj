{
 "cells": [
  {
   "cell_type": "markdown",
   "id": "aa4b70c7-4f71-4a30-9bce-86459e911886",
   "metadata": {},
   "source": [
    "# Information required\n",
    "* Study area\n",
    "* Study time period\n",
    "\n",
    "# Set up new environment\n",
    "\n",
    "If necessary, set up new environment with specified packages and dependenciesy\n",
    "\n",
    "# Acquire data for study area\n",
    "## Locate PRISM data. \n",
    "Navigate to PRISM repository (https://prism.oregonstate.edu/) and find 1) daily precipitation data and 2) instructions to FTP data to your desired location\n",
    "## Pull PRISM data\n",
    "Use FTP instructions to download \n",
    "a file\n",
    "## Trim to study area\n",
    "Use boundary information to trim national dataset to desired study area. Save to desired location for this \n",
    "ject.\n",
    "## Delete full dataset (unless you have storage space for it and want  for other projects.t Deleting it frees up space for this project. o keep it)\n",
    "\n",
    "# Calculate precipitatio\n",
    "n frequency\n",
    "## Ident\n",
    "ify wet days\n",
    "Isolate days where precipitation (mm) exceeds .5mm/day (i.e., \"measurable preConvert <0.5mm values to 0mm.\n",
    "\n",
    "cipitation\"). Input: daily prec\n",
    "\n",
    "itation data. Output: file\n",
    "\n",
    "Code: \n",
    "\n",
    "## Calculate precipitation frequency\n",
    "\n",
    "Calculate the percent of days that receives precipitation for the study time period.\n",
    "\n",
    "Input: wetday_precip file\n",
    "\n",
    "Output: 2d matrix of data in which each cell contains percent of days receiving measurable precipitation (precipFrequency)\n",
    "\n",
    "Code: \n",
    "\n",
    "## Calculate average precipitation\n",
    "Calculate mean daily wet-day preciptiation for each grid cell\n",
    "\n",
    "Input: wetday_precip file\n",
    "\n",
    "Output: 2d matrix of data in which each cell contains mean of non-zero values (precipWetDayMean)\n",
    "\n",
    "Code:\n",
    "\n",
    "\n",
    "ay_precip file"
   ]
  }
 ],
 "metadata": {
  "kernelspec": {
   "display_name": "Python 3 (ipykernel)",
   "language": "python",
   "name": "python3"
  },
  "language_info": {
   "codemirror_mode": {
    "name": "ipython",
    "version": 3
   },
   "file_extension": ".py",
   "mimetype": "text/x-python",
   "name": "python",
   "nbconvert_exporter": "python",
   "pygments_lexer": "ipython3",
   "version": "3.11.7"
  }
 },
 "nbformat": 4,
 "nbformat_minor": 5
}
